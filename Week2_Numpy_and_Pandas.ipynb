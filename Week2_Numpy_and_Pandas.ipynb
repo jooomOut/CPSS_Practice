{
  "nbformat": 4,
  "nbformat_minor": 0,
  "metadata": {
    "colab": {
      "name": "Week2_Numpy_and_Pandas.ipynb",
      "provenance": [],
      "collapsed_sections": [],
      "authorship_tag": "ABX9TyOAWEJyN0AQVHa34nU/WmOX",
      "include_colab_link": true
    },
    "kernelspec": {
      "name": "python3",
      "display_name": "Python 3"
    },
    "language_info": {
      "name": "python"
    }
  },
  "cells": [
    {
      "cell_type": "markdown",
      "metadata": {
        "id": "view-in-github",
        "colab_type": "text"
      },
      "source": [
        "<a href=\"https://colab.research.google.com/github/jeehu99/CPSS_Practice/blob/main/Week2_Numpy_and_Pandas.ipynb\" target=\"_parent\"><img src=\"https://colab.research.google.com/assets/colab-badge.svg\" alt=\"Open In Colab\"/></a>"
      ]
    },
    {
      "cell_type": "markdown",
      "source": [
        "# PART1 - Numpy"
      ],
      "metadata": {
        "id": "lKfPLPO6v2mw"
      }
    },
    {
      "cell_type": "markdown",
      "source": [
        "**1. 라이브러리 - Numpy**"
      ],
      "metadata": {
        "id": "lGqF4jTzv8fq"
      }
    },
    {
      "cell_type": "code",
      "source": [
        "# 리스트로 행렬 표현\n",
        "\n",
        "A = [[1, 0], [0, 1]]\n",
        "B = [[1, 1], [1, 1]]\n",
        "\n",
        "print(A + B)"
      ],
      "metadata": {
        "id": "cyXceijwv5v4",
        "colab": {
          "base_uri": "https://localhost:8080/"
        },
        "outputId": "078d16f6-7c49-476d-e6b9-37b9d8c13e4f"
      },
      "execution_count": null,
      "outputs": [
        {
          "output_type": "stream",
          "name": "stdout",
          "text": [
            "[[1, 0], [0, 1], [1, 1], [1, 1]]\n"
          ]
        }
      ]
    },
    {
      "cell_type": "code",
      "source": [
        "# numpy를 이용한 matrix 생성\n",
        "\n",
        "import numpy as np\n",
        "\n",
        "A = np.array([ [1, 0], [0, 1] ])\n",
        "B = np.array([ [1, 1], [1, 1] ])\n",
        "\n",
        "print(A + B)"
      ],
      "metadata": {
        "id": "eGFmz9oSwFnR",
        "colab": {
          "base_uri": "https://localhost:8080/"
        },
        "outputId": "c323359d-10d2-4c48-f2f3-b5ef9bad4e92"
      },
      "execution_count": null,
      "outputs": [
        {
          "output_type": "stream",
          "name": "stdout",
          "text": [
            "[[2 1]\n",
            " [1 2]]\n"
          ]
        }
      ]
    },
    {
      "cell_type": "markdown",
      "source": [
        "**2. numpy vector(1차원 배열)**"
      ],
      "metadata": {
        "id": "RwfzF-jIwSMY"
      }
    },
    {
      "cell_type": "code",
      "source": [
        "import numpy as np\n",
        "\n",
        "A = np.array([1, 2, 3])\n",
        "B = np.array([4, 5, 6])\n",
        "\n",
        "# vector A, B 출력\n",
        "print(\"A == \", A, \", B == \", B)\n",
        "\n",
        "# vector A, B shape 출력\n",
        "print(\"A.shape == \", A.shape, \", B.shape == \", B.shape)\n",
        "\n",
        "# vector A, B dimension 출력\n",
        "print(\"A.ndim == \", A.ndim, \", B.ndim == \", B.ndim)"
      ],
      "metadata": {
        "id": "PYoiRYpqwZvP",
        "colab": {
          "base_uri": "https://localhost:8080/"
        },
        "outputId": "cd0dc726-c93d-483d-f881-7b72f3bb3756"
      },
      "execution_count": null,
      "outputs": [
        {
          "output_type": "stream",
          "name": "stdout",
          "text": [
            "A ==  [1 2 3] , B ==  [4 5 6]\n",
            "A.shape ==  (3,) , B.shape ==  (3,)\n",
            "A.ndim ==  1 , B.ndim ==  1\n"
          ]
        }
      ]
    },
    {
      "cell_type": "code",
      "source": [
        "# vector 산술연산\n",
        "\n",
        "print(\"A + B == \", A + B)\n",
        "print(\"A - B == \", A - B)\n",
        "print(\"A * B == \", A * B)\n",
        "print(\"A / B == \", A / B)"
      ],
      "metadata": {
        "id": "8QL_Mpl9wyL6",
        "colab": {
          "base_uri": "https://localhost:8080/"
        },
        "outputId": "85436ce4-555d-479d-b3e5-cc910dee9257"
      },
      "execution_count": null,
      "outputs": [
        {
          "output_type": "stream",
          "name": "stdout",
          "text": [
            "A + B ==  [5 7 9]\n",
            "A - B ==  [-3 -3 -3]\n",
            "A * B ==  [ 4 10 18]\n",
            "A / B ==  [0.25 0.4  0.5 ]\n"
          ]
        }
      ]
    },
    {
      "cell_type": "markdown",
      "source": [
        "**3. numpy matrix(행렬)**"
      ],
      "metadata": {
        "id": "LMJA9z5wxCVv"
      }
    },
    {
      "cell_type": "code",
      "source": [
        "import numpy as np\n",
        "\n",
        "A = np.array([ [1, 2, 3], [4, 5, 6] ])\n",
        "B = np.array([ [-1, -2 , -3], [-4, -5, -6] ])\n",
        "\n",
        "print(\"A.shape == \", A.shape, \", B.shape == \", B.shape)\n",
        "print(\"A.ndim == \", A.ndim, \", B.ndim == \", B.ndim)"
      ],
      "metadata": {
        "id": "1FEjV3f4w-n4",
        "colab": {
          "base_uri": "https://localhost:8080/"
        },
        "outputId": "6b03c390-53d7-4d34-948f-6f62ac6b3349"
      },
      "execution_count": null,
      "outputs": [
        {
          "output_type": "stream",
          "name": "stdout",
          "text": [
            "A.shape ==  (2, 3) , B.shape ==  (2, 3)\n",
            "A.ndim ==  2 , B.ndim ==  2\n"
          ]
        }
      ]
    },
    {
      "cell_type": "code",
      "source": [
        "C = np.array([1, 2, 3])\n",
        "print(\"C.shape == \", C.shape)\n",
        "\n",
        "# 벡터를 1 X 3 행렬로 형 변환\n",
        "C = C.reshape(1, 3)\n",
        "print(\"C.shape == \", C.shape)"
      ],
      "metadata": {
        "id": "2fGGMhUNxZrr",
        "colab": {
          "base_uri": "https://localhost:8080/"
        },
        "outputId": "e6dcc584-3149-4faa-8eef-6f1c0ff57edb"
      },
      "execution_count": null,
      "outputs": [
        {
          "output_type": "stream",
          "name": "stdout",
          "text": [
            "C.shape ==  (3,)\n",
            "C.shape ==  (1, 3)\n"
          ]
        }
      ]
    },
    {
      "cell_type": "markdown",
      "source": [
        "**4. numpy 행렬 곱(dot product)**"
      ],
      "metadata": {
        "id": "18jUEh9lxkRx"
      }
    },
    {
      "cell_type": "code",
      "source": [
        "import numpy as np\n",
        "\n",
        "A = np.array([ [1,2,3], [4,5,6] ])\n",
        "B = np.array([ [-1,-2], [-3, -4], [-5, -6] ])\n",
        "\n",
        "C = np.dot(A, B)\n",
        "\n",
        "print(\"A.shape == \",A.shape, \", B.shape == \", B.shape)\n",
        "print(\"C.shape == \", C.shape)\n",
        "\n",
        "print(C)"
      ],
      "metadata": {
        "id": "MFEIdJlHxjdy",
        "colab": {
          "base_uri": "https://localhost:8080/"
        },
        "outputId": "ea39e079-24ae-4f36-81a8-2f76762664a2"
      },
      "execution_count": null,
      "outputs": [
        {
          "output_type": "stream",
          "name": "stdout",
          "text": [
            "A.shape ==  (2, 3) , B.shape ==  (3, 2)\n",
            "C.shape ==  (2, 2)\n",
            "[[-22 -28]\n",
            " [-49 -64]]\n"
          ]
        }
      ]
    },
    {
      "cell_type": "markdown",
      "source": [
        "**5. numpy broadcast**"
      ],
      "metadata": {
        "id": "saVuNN-DyEuv"
      }
    },
    {
      "cell_type": "code",
      "source": [
        "import numpy as np\n",
        "\n",
        "A = np.array([ [1, 2], [3, 4] ])\n",
        "b = 5\n",
        "\n",
        "print(A + b)"
      ],
      "metadata": {
        "id": "eJ08Xv5Jx2Hx",
        "colab": {
          "base_uri": "https://localhost:8080/"
        },
        "outputId": "a1a129c7-454b-4d47-b46e-e63cd2af49fb"
      },
      "execution_count": null,
      "outputs": [
        {
          "output_type": "stream",
          "name": "stdout",
          "text": [
            "[[6 7]\n",
            " [8 9]]\n"
          ]
        }
      ]
    },
    {
      "cell_type": "code",
      "source": [
        "C = np.array([ [1, 2], [3, 4] ])\n",
        "D = np.array([4, 5])\n",
        "\n",
        "print(C + D)"
      ],
      "metadata": {
        "id": "BI9HE3qOyQTu",
        "colab": {
          "base_uri": "https://localhost:8080/"
        },
        "outputId": "730fd057-c243-43c8-d860-58f103fdf56b"
      },
      "execution_count": null,
      "outputs": [
        {
          "output_type": "stream",
          "name": "stdout",
          "text": [
            "[[5 7]\n",
            " [7 9]]\n"
          ]
        }
      ]
    },
    {
      "cell_type": "markdown",
      "source": [
        "**6. numpy 전치행렬(transpose)**"
      ],
      "metadata": {
        "id": "SjRhNm31yf02"
      }
    },
    {
      "cell_type": "code",
      "source": [
        "import numpy as np\n",
        "\n",
        "A = np.array([ [1, 2], [3, 4], [5, 6] ])\n",
        "B = A.T # A의 전치행렬 => 2 X 3 행렬\n",
        "\n",
        "print(A.shape, B.shape, '\\n')\n",
        "print(A, '\\n')\n",
        "print(B)"
      ],
      "metadata": {
        "id": "RJxmWM5xyh3J",
        "colab": {
          "base_uri": "https://localhost:8080/"
        },
        "outputId": "47304366-4ae8-4c59-9e06-2f55673edbe4"
      },
      "execution_count": null,
      "outputs": [
        {
          "output_type": "stream",
          "name": "stdout",
          "text": [
            "(3, 2) (2, 3) \n",
            "\n",
            "[[1 2]\n",
            " [3 4]\n",
            " [5 6]] \n",
            "\n",
            "[[1 3 5]\n",
            " [2 4 6]]\n"
          ]
        }
      ]
    },
    {
      "cell_type": "code",
      "source": [
        "# vector 전치행렬\n",
        "\n",
        "C = np.array([1, 2, 3, 4, 5])\n",
        "D = C.T\n",
        "\n",
        "E = C.reshape(1, 5)\n",
        "F = E.T\n",
        "\n",
        "print(\"C.shape == \", C.shape, \", D.shape == \", D.shape)\n",
        "print(\"E.shape == \", E.shape, \", F.shape == \", F.shape)\n",
        "print(F)"
      ],
      "metadata": {
        "id": "Mg6QUPVoy05y",
        "colab": {
          "base_uri": "https://localhost:8080/"
        },
        "outputId": "98b779ac-44c1-4261-8d32-ae9a9b503f84"
      },
      "execution_count": null,
      "outputs": [
        {
          "output_type": "stream",
          "name": "stdout",
          "text": [
            "C.shape ==  (5,) , D.shape ==  (5,)\n",
            "E.shape ==  (1, 5) , F.shape ==  (5, 1)\n",
            "[[1]\n",
            " [2]\n",
            " [3]\n",
            " [4]\n",
            " [5]]\n"
          ]
        }
      ]
    },
    {
      "cell_type": "markdown",
      "source": [
        "**7. numpy 행렬 indexing / slicing**"
      ],
      "metadata": {
        "id": "eMaeJ2hTzLIu"
      }
    },
    {
      "cell_type": "code",
      "source": [
        "import numpy as np\n",
        "\n",
        "A = np.array([10, 20, 30, 40, 50, 60]).reshape(3, 2)\n",
        "\n",
        "print(A.shape, '\\n')\n",
        "print(A)"
      ],
      "metadata": {
        "id": "kuz7CLeBzKo_",
        "colab": {
          "base_uri": "https://localhost:8080/"
        },
        "outputId": "ec9068d4-b8fd-4e63-ab5d-5ed968c91aa5"
      },
      "execution_count": null,
      "outputs": [
        {
          "output_type": "stream",
          "name": "stdout",
          "text": [
            "(3, 2) \n",
            "\n",
            "[[10 20]\n",
            " [30 40]\n",
            " [50 60]]\n"
          ]
        }
      ]
    },
    {
      "cell_type": "code",
      "source": [
        "print(\"A[0, 0] == \", A[0, 0], \", A[0][0] == \", A[0][0])\n",
        "print(\"A[2, 1] == \", A[2, 1], \", A[2][1] == \", A[2][1] )"
      ],
      "metadata": {
        "id": "b3H78cX5zZL_",
        "colab": {
          "base_uri": "https://localhost:8080/"
        },
        "outputId": "c8f47243-9d50-454f-9d99-5273abf5c34d"
      },
      "execution_count": null,
      "outputs": [
        {
          "output_type": "stream",
          "name": "stdout",
          "text": [
            "A[0, 0] ==  10 , A[0][0] ==  10\n",
            "A[2, 1] ==  60 , A[2][1] ==  60\n"
          ]
        }
      ]
    },
    {
      "cell_type": "code",
      "source": [
        "print(\"A[0:-1, 1:2] == \", A[0:-1, 1:2] )"
      ],
      "metadata": {
        "id": "Uh03a0gGzoO9",
        "colab": {
          "base_uri": "https://localhost:8080/"
        },
        "outputId": "e336d9c7-9913-44bc-f2fc-dd3735aab2b6"
      },
      "execution_count": null,
      "outputs": [
        {
          "output_type": "stream",
          "name": "stdout",
          "text": [
            "A[0:-1, 1:2] ==  [[20]\n",
            " [40]]\n"
          ]
        }
      ]
    },
    {
      "cell_type": "code",
      "source": [
        "print(\"A[ :, 0] == \", A[ :, 0])\n",
        "print(\"A[ :, :] == \", A[ :, :])"
      ],
      "metadata": {
        "id": "3MDah29G0G24",
        "colab": {
          "base_uri": "https://localhost:8080/"
        },
        "outputId": "750e42c0-5921-4443-80ce-aae6ced360d4"
      },
      "execution_count": null,
      "outputs": [
        {
          "output_type": "stream",
          "name": "stdout",
          "text": [
            "A[ :, 0] ==  [10 30 50]\n",
            "A[ :, :] ==  [[10 20]\n",
            " [30 40]\n",
            " [50 60]]\n"
          ]
        }
      ]
    },
    {
      "cell_type": "markdown",
      "source": [
        "**8. numpy 행렬 iterator**"
      ],
      "metadata": {
        "id": "o4lxgOgn0PLR"
      }
    },
    {
      "cell_type": "code",
      "source": [
        "import numpy as np\n",
        "\n",
        "A = np.array([ [10, 20, 30, 40], [50, 60, 70, 80] ])\n",
        "print(A, '\\n')\n",
        "print(\"A.shape == \", A.shape)\n",
        "\n",
        "it = np.nditer(A, flags=['multi_index'], op_flags=['readwrite'])\n",
        "\n",
        "while not it.finished:\n",
        "  idx = it.multi_index\n",
        "  print(\"current value => \", A[idx])\n",
        "  it.iternext()"
      ],
      "metadata": {
        "id": "b12TCT-e0RvF",
        "colab": {
          "base_uri": "https://localhost:8080/"
        },
        "outputId": "2663c918-6065-45c3-d52f-61dab87feb07"
      },
      "execution_count": null,
      "outputs": [
        {
          "output_type": "stream",
          "name": "stdout",
          "text": [
            "[[10 20 30 40]\n",
            " [50 60 70 80]] \n",
            "\n",
            "A.shape ==  (2, 4)\n",
            "current value =>  10\n",
            "current value =>  20\n",
            "current value =>  30\n",
            "current value =>  40\n",
            "current value =>  50\n",
            "current value =>  60\n",
            "current value =>  70\n",
            "current value =>  80\n"
          ]
        }
      ]
    },
    {
      "cell_type": "markdown",
      "source": [
        "**9. numpy concatenate()**"
      ],
      "metadata": {
        "id": "D-X-_-7j1FHN"
      }
    },
    {
      "cell_type": "code",
      "source": [
        "import numpy as np\n",
        "\n",
        "# 행렬에 열과 행 추가하기\n",
        "\n",
        "A = np.array([ [10, 20, 30], [40, 50, 60] ])\n",
        "\n",
        "print(A.shape)\n",
        "\n",
        "# A matrix에 행(row) 추가할 행렬 => 1행 3열로 reshape\n",
        "# 행을 추가하기 때문에 우선 열을 3열로 만들어야 함\n",
        "row_add = np.array([70, 80, 90]).reshape(1, 3)\n",
        "print(row_add.shape)\n",
        "\n",
        "# A matrix에 열(column) 추가할 행렬 => 2행 1열로 reshape\n",
        "# 열을 추가하기 때문에 우선 행을 2행으로 만들어야 함\n",
        "column_add = np.array([1000, 2000]).reshape(2, 1)\n",
        "print(column_add.shape)\n",
        "\n",
        "# numpy.concatenate에서 axis = 0 행(row) 기준\n",
        "# A 행렬에 row_add 행렬 추가\n",
        "B = np.concatenate((A, row_add), axis=0)\n",
        "print(B)\n",
        "\n",
        "# numpy.concatenate에서 axis = 1 열(column) 기준\n",
        "# A 행렬에 column_add 행렬 추가\n",
        "C = np.concatenate((A, column_add), axis=1)\n",
        "print(C)"
      ],
      "metadata": {
        "id": "HN8IUXQE1Eof",
        "colab": {
          "base_uri": "https://localhost:8080/"
        },
        "outputId": "f2895d55-7c28-492e-fc67-9355a455a46b"
      },
      "execution_count": null,
      "outputs": [
        {
          "output_type": "stream",
          "name": "stdout",
          "text": [
            "(2, 3)\n",
            "(1, 3)\n",
            "(2, 1)\n",
            "[[10 20 30]\n",
            " [40 50 60]\n",
            " [70 80 90]]\n",
            "[[  10   20   30 1000]\n",
            " [  40   50   60 2000]]\n"
          ]
        }
      ]
    },
    {
      "cell_type": "markdown",
      "source": [
        "**10. numpy useful function**"
      ],
      "metadata": {
        "id": "ZbJcAtKj2L54"
      }
    },
    {
      "cell_type": "code",
      "source": [
        "# colab에 파일 업로드\n",
        "\n",
        "from google.colab import files\n",
        "\n",
        "uploaded = files.upload()\n",
        "\n",
        "for fn in uploaded.keys():\n",
        "  print('User uploaded file \"{name}\" with length {length}\" bytes'.format(name=fn, length=len(uploaded[fn])))"
      ],
      "metadata": {
        "colab": {
          "resources": {
            "http://localhost:8080/nbextensions/google.colab/files.js": {
              "data": "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",
              "ok": true,
              "headers": [
                [
                  "content-type",
                  "application/javascript"
                ]
              ],
              "status": 200,
              "status_text": ""
            }
          },
          "base_uri": "https://localhost:8080/",
          "height": 95
        },
        "id": "1NVeVWeE2OGu",
        "outputId": "5f0ab5d6-39ba-4514-e359-18c1cd0ab04c"
      },
      "execution_count": null,
      "outputs": [
        {
          "output_type": "display_data",
          "data": {
            "text/html": [
              "\n",
              "     <input type=\"file\" id=\"files-e6fcd050-4ce3-40a7-8261-0f1f00883a09\" name=\"files[]\" multiple disabled\n",
              "        style=\"border:none\" />\n",
              "     <output id=\"result-e6fcd050-4ce3-40a7-8261-0f1f00883a09\">\n",
              "      Upload widget is only available when the cell has been executed in the\n",
              "      current browser session. Please rerun this cell to enable.\n",
              "      </output>\n",
              "      <script src=\"/nbextensions/google.colab/files.js\"></script> "
            ],
            "text/plain": [
              "<IPython.core.display.HTML object>"
            ]
          },
          "metadata": {}
        },
        {
          "output_type": "stream",
          "name": "stdout",
          "text": [
            "Saving data-01-test-score.csv to data-01-test-score.csv\n",
            "User uploaded file \"data-01-test-score.csv\" with length 326\" bytes\n"
          ]
        }
      ]
    },
    {
      "cell_type": "code",
      "source": [
        "# np.loadtxt\n",
        "\n",
        "loaded_data = np.loadtxt('./data-01-test-score.csv', delimiter=',', dtype=np.float32)\n",
        "\n",
        "x_data = loaded_data[ :, 0:-1]\n",
        "t_data = loaded_data[ :, [-1]]\n",
        "\n",
        "print(\"x_data.ndim == \", x_data.ndim, \", x_data.shape == \", x_data.shape)\n",
        "print(\"t_data.ndim == \", t_data.ndim, \", t_data.shape == \", t_data.shape)"
      ],
      "metadata": {
        "id": "pNztgqfK_sNq",
        "colab": {
          "base_uri": "https://localhost:8080/"
        },
        "outputId": "1d94f6ae-5036-4685-87cd-e468928f15ee"
      },
      "execution_count": null,
      "outputs": [
        {
          "output_type": "stream",
          "name": "stdout",
          "text": [
            "x_data.ndim ==  2 , x_data.shape ==  (25, 3)\n",
            "t_data.ndim ==  2 , t_data.shape ==  (25, 1)\n"
          ]
        }
      ]
    },
    {
      "cell_type": "code",
      "source": [
        "import numpy as np\n",
        "\n",
        "# np.random.rand()\n",
        "\n",
        "# 0~1 사이의 random number 발생\n",
        "random_number1 = np.random.rand(3)\n",
        "random_number2 = np.random.rand(1, 3)\n",
        "random_number3 = np.random.rand(3, 1)\n",
        "\n",
        "print(\"random_number1 == \", random_number1, ', random_number1.shape == ', random_number1.shape)\n",
        "print(\"random_number2 == \", random_number2, ', random_number2.shape == ', random_number2.shape)\n",
        "print(\"random_number3 == \", random_number3, ', random_number3.shape == ', random_number3.shape)"
      ],
      "metadata": {
        "colab": {
          "base_uri": "https://localhost:8080/"
        },
        "id": "0N_ai0--AESA",
        "outputId": "030563ab-94b7-4597-8619-98bed686d973"
      },
      "execution_count": null,
      "outputs": [
        {
          "output_type": "stream",
          "name": "stdout",
          "text": [
            "random_number1 ==  [0.78241375 0.82951854 0.7466636 ] , random_number1.shape ==  (3,)\n",
            "random_number2 ==  [[0.45917479 0.3296203  0.51533613]] , random_number2.shape ==  (1, 3)\n",
            "random_number3 ==  [[0.73996054]\n",
            " [0.6615543 ]\n",
            " [0.76243749]] , random_number3.shape ==  (3, 1)\n"
          ]
        }
      ]
    },
    {
      "cell_type": "code",
      "source": [
        "import numpy as np\n",
        "\n",
        "# np.random.randint()\n",
        "\n",
        "# 0 ~ 9 사이의 random number 발생\n",
        "rand_intnum = np.random.randint(1, 10, (3, 3))\n",
        "\n",
        "print(rand_intnum)"
      ],
      "metadata": {
        "colab": {
          "base_uri": "https://localhost:8080/"
        },
        "id": "bRwJkSC6VoQ6",
        "outputId": "2db91ef6-c6d7-4412-b94b-85f2bc69b5a8"
      },
      "execution_count": null,
      "outputs": [
        {
          "output_type": "stream",
          "name": "stdout",
          "text": [
            "[[1 5 9]\n",
            " [9 8 6]\n",
            " [2 4 9]]\n"
          ]
        }
      ]
    },
    {
      "cell_type": "code",
      "source": [
        "import numpy as np\n",
        "\n",
        "# np.sum(), np.exp(), np.log()\n",
        "\n",
        "X = np.array([2, 4, 6, 8])\n",
        "print(\"np.sum(X) == \", np.sum(X))\n",
        "print(\"np.exp(X) == \", np.exp(X))\n",
        "print(\"np.log(X) == \", np.log(X))"
      ],
      "metadata": {
        "id": "OaQcT0VdApRO",
        "colab": {
          "base_uri": "https://localhost:8080/"
        },
        "outputId": "9fb602f4-1c56-4e9f-f046-7ec478d9b8d2"
      },
      "execution_count": null,
      "outputs": [
        {
          "output_type": "stream",
          "name": "stdout",
          "text": [
            "np.sum(X) ==  20\n",
            "np.exp(X) ==  [   7.3890561    54.59815003  403.42879349 2980.95798704]\n",
            "np.log(X) ==  [0.69314718 1.38629436 1.79175947 2.07944154]\n"
          ]
        }
      ]
    },
    {
      "cell_type": "code",
      "source": [
        "import numpy as np\n",
        "\n",
        "# numpy.max(), numpy.min(), numpy.argmax(), numpy.argmin()\n",
        "\n",
        "X = np.array([2, 4, 6, 8])\n",
        "\n",
        "print('np.max(X) == ', np.max(X))\n",
        "print('np.min(X) == ', np.min(X))\n",
        "print('np.argmax(X) == ', np.argmax(X))\n",
        "print('np.argmin(X) == ', np.argmin(X))"
      ],
      "metadata": {
        "id": "eSb19BjZA1Jm",
        "colab": {
          "base_uri": "https://localhost:8080/"
        },
        "outputId": "dde44814-8800-4ac0-a1af-d9c58f419761"
      },
      "execution_count": null,
      "outputs": [
        {
          "output_type": "stream",
          "name": "stdout",
          "text": [
            "np.max(X) ==  8\n",
            "np.min(X) ==  2\n",
            "np.argmax(X) ==  3\n",
            "np.argmin(X) ==  0\n"
          ]
        }
      ]
    },
    {
      "cell_type": "code",
      "source": [
        "import numpy as np\n",
        "\n",
        "X = np.array([ [2, 4, 6], [1, 2, 3], [0, 5, 8] ])\n",
        "print(X)\n",
        "\n",
        "print('np.max(X) == ', np.max(X, axis=0))\n",
        "print('np.min(X) == ', np.min(X, axis=0))\n",
        "\n",
        "print('np.max(X) == ', np.max(X, axis=1))\n",
        "print('np.min(X) == ', np.min(X, axis=1))\n",
        "\n",
        "print('np.argmax(X) == ', np.argmax(X, axis=0))\n",
        "print('np.argmin(X) == ', np.argmin(X, axis=0))\n",
        "\n",
        "print('np.argmax(X) == ', np.argmax(X, axis=1))\n",
        "print('np.argmin(X) == ', np.argmin(X, axis=1))"
      ],
      "metadata": {
        "id": "P9HUp3qmBOtc",
        "colab": {
          "base_uri": "https://localhost:8080/"
        },
        "outputId": "ee8b8999-d31b-42d7-9ee0-ffa9717b9d35"
      },
      "execution_count": null,
      "outputs": [
        {
          "output_type": "stream",
          "name": "stdout",
          "text": [
            "[[2 4 6]\n",
            " [1 2 3]\n",
            " [0 5 8]]\n",
            "np.max(X) ==  [2 5 8]\n",
            "np.min(X) ==  [0 2 3]\n",
            "np.max(X) ==  [6 3 8]\n",
            "np.min(X) ==  [2 1 0]\n",
            "np.argmax(X) ==  [0 2 2]\n",
            "np.argmin(X) ==  [2 1 1]\n",
            "np.argmax(X) ==  [2 2 2]\n",
            "np.argmin(X) ==  [0 0 0]\n"
          ]
        }
      ]
    },
    {
      "cell_type": "code",
      "source": [
        "import numpy as np\n",
        "\n",
        "# numpy.ones(), numpy.zeros()\n",
        "\n",
        "A = np.ones([3, 3])\n",
        "print(\"A.shape == \", A.shape, \"\\nA == \", A, '\\n')\n",
        "\n",
        "B = np.zeros([3, 2])\n",
        "print(\"B.shape == \", B.shape, '\\nB == ', B)"
      ],
      "metadata": {
        "colab": {
          "base_uri": "https://localhost:8080/"
        },
        "id": "ivWb2rKyBlGr",
        "outputId": "feb869b7-85a0-485f-eff9-168b8644ddaa"
      },
      "execution_count": null,
      "outputs": [
        {
          "output_type": "stream",
          "name": "stdout",
          "text": [
            "A.shape ==  (3, 3) \n",
            "A ==  [[1. 1. 1.]\n",
            " [1. 1. 1.]\n",
            " [1. 1. 1.]] \n",
            "\n",
            "B.shape ==  (3, 2) \n",
            "B ==  [[0. 0.]\n",
            " [0. 0.]\n",
            " [0. 0.]]\n"
          ]
        }
      ]
    },
    {
      "cell_type": "markdown",
      "source": [
        "# PART2 - Pandas"
      ],
      "metadata": {
        "id": "gbbsX3x5CNQA"
      }
    },
    {
      "cell_type": "markdown",
      "source": [
        "**1. 시리즈(Series)**"
      ],
      "metadata": {
        "id": "1hN7IlQBCX2O"
      }
    },
    {
      "cell_type": "code",
      "source": [
        "import pandas as pd\n",
        "\n",
        "array = pd.Series(['사과', '포도', '딸기'], index=['a', 'b', 'c'])\n",
        "\n",
        "print(array)\n",
        "print(array['a'])"
      ],
      "metadata": {
        "id": "CUsHe6KICW9X",
        "colab": {
          "base_uri": "https://localhost:8080/"
        },
        "outputId": "a4e94b6c-3278-4dcf-ce3d-41254d835f20"
      },
      "execution_count": null,
      "outputs": [
        {
          "output_type": "stream",
          "name": "stdout",
          "text": [
            "a    사과\n",
            "b    포도\n",
            "c    딸기\n",
            "dtype: object\n",
            "사과\n"
          ]
        }
      ]
    },
    {
      "cell_type": "code",
      "source": [
        "import pandas as pd\n",
        "\n",
        "# Dict 자료형을 Series로 변환\n",
        "\n",
        "fruit_dict = {\n",
        "    'a' : '사과',\n",
        "    'b' : '포도',\n",
        "    'c' : '딸기'\n",
        "}\n",
        "\n",
        "fruit_array = pd.Series(fruit_dict)\n",
        "print(fruit_array['a'])"
      ],
      "metadata": {
        "id": "D0ZFWpF7CsDn",
        "colab": {
          "base_uri": "https://localhost:8080/"
        },
        "outputId": "f93bbeb3-f955-4a22-8dbc-6878f8921c52"
      },
      "execution_count": null,
      "outputs": [
        {
          "output_type": "stream",
          "name": "stdout",
          "text": [
            "사과\n"
          ]
        }
      ]
    },
    {
      "cell_type": "markdown",
      "source": [
        "**2. 데이터 프레임**"
      ],
      "metadata": {
        "id": "hyDMpGNXDFUJ"
      }
    },
    {
      "cell_type": "code",
      "source": [
        "import pandas as pd\n",
        "\n",
        "fruit_dict = {\n",
        "    'Apple' : '사과',\n",
        "    'Grape' : '포도',\n",
        "    'Strawberry' : '딸기'\n",
        "}\n",
        "\n",
        "count_dict = {\n",
        "    'Apple' : 3,\n",
        "    'Grape' : 5,\n",
        "    'Strawberry' : 7 \n",
        "}\n",
        "\n",
        "fruit_name = pd.Series(fruit_dict)\n",
        "cnt = pd.Series(count_dict)\n",
        "\n",
        "# 이름(Name) : 값(Values)\n",
        "df_fruit = pd.DataFrame({\n",
        "    'name' : fruit_name,\n",
        "    'count' : cnt\n",
        "})\n",
        "\n",
        "print(df_fruit)"
      ],
      "metadata": {
        "colab": {
          "base_uri": "https://localhost:8080/"
        },
        "id": "gj8qj0W0DEuL",
        "outputId": "141e6d03-bc99-49bd-ab21-36a0bc0588f3"
      },
      "execution_count": null,
      "outputs": [
        {
          "output_type": "stream",
          "name": "stdout",
          "text": [
            "           name  count\n",
            "Apple        사과      3\n",
            "Grape        포도      5\n",
            "Strawberry   딸기      7\n"
          ]
        }
      ]
    },
    {
      "cell_type": "markdown",
      "source": [
        "**3. 시리즈의 연산**"
      ],
      "metadata": {
        "id": "2aYLJKQFEbTY"
      }
    },
    {
      "cell_type": "code",
      "source": [
        "import pandas as pd\n",
        "\n",
        "fruit_dict = {\n",
        "    'Apple' : '사과',\n",
        "    'Grape' : '포도',\n",
        "    'Strawberry' : '딸기'\n",
        "}\n",
        "\n",
        "count_dict = {\n",
        "    'Apple' : 3,\n",
        "    'Grape' : 5,\n",
        "    'Strawberry' : 7\n",
        "}\n",
        "\n",
        "pref_dict = {\n",
        "    'Apple' : 1,\n",
        "    'Grape' : 2,\n",
        "    'Strawberry' : 3\n",
        "}\n",
        "\n",
        "fruit_name = pd.Series(fruit_dict)\n",
        "cnt = pd.Series(count_dict)\n",
        "pref = pd.Series(pref_dict)\n",
        "\n",
        "df_fruit = pd.DataFrame({\n",
        "    'fruit' : fruit_name,\n",
        "    'count' : cnt,\n",
        "    'preference' : pref\n",
        "})\n",
        "\n",
        "score = df_fruit['count'] * df_fruit['preference']\n",
        "df_fruit['score'] = score\n",
        "\n",
        "print(df_fruit)"
      ],
      "metadata": {
        "colab": {
          "base_uri": "https://localhost:8080/"
        },
        "id": "3h-88zg1EYGy",
        "outputId": "a67fd6bd-5b7d-42d3-f5d8-271dc9a2c758"
      },
      "execution_count": null,
      "outputs": [
        {
          "output_type": "stream",
          "name": "stdout",
          "text": [
            "           fruit  count  preference  score\n",
            "Apple         사과      3           1      3\n",
            "Grape         포도      5           2     10\n",
            "Strawberry    딸기      7           3     21\n"
          ]
        }
      ]
    },
    {
      "cell_type": "markdown",
      "source": [
        "**4. 데이터 프레임의 슬라이싱**"
      ],
      "metadata": {
        "id": "5cwh4d9iGH5s"
      }
    },
    {
      "cell_type": "code",
      "source": [
        "import pandas as pd\n",
        "\n",
        "fruit_dict = {\n",
        "    'Apple' : '사과',\n",
        "    'Grape' : '포도',\n",
        "    'Strawberry' : '딸기',\n",
        "    'Orange' : '오렌지'\n",
        "}\n",
        "\n",
        "count_dict = {\n",
        "    'Apple' : 3,\n",
        "    'Grape' : 5,\n",
        "    'Strawberry' : 7,\n",
        "    'Orange' : 4\n",
        "}\n",
        "\n",
        "pref_dict = {\n",
        "    'Apple' : 1,\n",
        "    'Grape' : 2,\n",
        "    'Strawberry' : 3,\n",
        "    'Orange' : 1\n",
        "}\n",
        "\n",
        "fruit_name = pd.Series(fruit_dict)\n",
        "cnt = pd.Series(count_dict)\n",
        "pref = pd.Series(pref_dict)\n",
        "\n",
        "df_fruit = pd.DataFrame({\n",
        "    'fruit' : fruit_name,\n",
        "    'count' : cnt,\n",
        "    'preference' : pref\n",
        "})\n",
        "\n",
        "print(df_fruit)\n",
        "\n",
        "\n",
        "# 이름을 기준으로 슬라이싱\n",
        "# Grape ~ Strawberry 까지 데이터를 가져오고, count부터 모든 series를 가져옴\n",
        "print(df_fruit.loc['Grape':'Strawberry', 'count':])\n",
        "\n",
        "# 인덱스를 기준으로 슬라이싱\n",
        "# 1 ~ (3-1) 번째 인덱스를 가져오고, series 인덱스 1부터 가져옴\n",
        "print(df_fruit.iloc[1:3, 1:])"
      ],
      "metadata": {
        "colab": {
          "base_uri": "https://localhost:8080/"
        },
        "id": "P0xmWJfhGKB6",
        "outputId": "257205e6-24ef-4e4d-b8cc-72254afbd3c8"
      },
      "execution_count": null,
      "outputs": [
        {
          "output_type": "stream",
          "name": "stdout",
          "text": [
            "           fruit  count  preference\n",
            "Apple         사과      3           1\n",
            "Grape         포도      5           2\n",
            "Strawberry    딸기      7           3\n",
            "Orange       오렌지      4           1\n",
            "            count  preference\n",
            "Grape           5           2\n",
            "Strawberry      7           3\n",
            "            count  preference\n",
            "Grape           5           2\n",
            "Strawberry      7           3\n"
          ]
        }
      ]
    },
    {
      "cell_type": "markdown",
      "source": [
        "**5. 데이터 프레임의 연산**"
      ],
      "metadata": {
        "id": "QWJVsLWbHO1X"
      }
    },
    {
      "cell_type": "code",
      "source": [
        "import pandas as pd\n",
        "\n",
        "fruit_dict = {\n",
        "    'Apple' : '사과',\n",
        "    'Grape' : '포도',\n",
        "    'Strawberry' : '딸기',\n",
        "    'Orange' : '오렌지'\n",
        "}\n",
        "\n",
        "count_dict = {\n",
        "    'Apple' : 3,\n",
        "    'Grape' : 5,\n",
        "    'Strawberry' : 7,\n",
        "    'Orange' : 4\n",
        "}\n",
        "\n",
        "pref_dict = {\n",
        "    'Apple' : 1,\n",
        "    'Grape' : 2,\n",
        "    'Strawberry' : 3,\n",
        "    'Orange' : 1\n",
        "}\n",
        "\n",
        "fruit_name = pd.Series(fruit_dict)\n",
        "cnt = pd.Series(count_dict)\n",
        "pref = pd.Series(pref_dict)\n",
        "\n",
        "df_fruit = pd.DataFrame({\n",
        "    'fruit' : fruit_name,\n",
        "    'count' : cnt,\n",
        "    'preference' : pref\n",
        "})\n",
        "\n",
        "print(df_fruit)\n",
        "\n",
        "df_fruit.loc['Apple', 'preference'] = 3      # 데이터의 변경\n",
        "df_fruit.loc['Banana'] = ['바나나', 5, 3]    # 새 데이터 삽입\n",
        "\n",
        "print(df_fruit)"
      ],
      "metadata": {
        "colab": {
          "base_uri": "https://localhost:8080/"
        },
        "id": "_LIBoyBlHQF-",
        "outputId": "f2fa191d-b7cb-40db-cf73-73232450b4f2"
      },
      "execution_count": null,
      "outputs": [
        {
          "output_type": "stream",
          "name": "stdout",
          "text": [
            "           fruit  count  preference\n",
            "Apple         사과      3           1\n",
            "Grape         포도      5           2\n",
            "Strawberry    딸기      7           3\n",
            "Orange       오렌지      4           1\n",
            "           fruit  count  preference\n",
            "Apple         사과      3           3\n",
            "Grape         포도      5           2\n",
            "Strawberry    딸기      7           3\n",
            "Orange       오렌지      4           1\n",
            "Banana       바나나      5           3\n"
          ]
        }
      ]
    },
    {
      "cell_type": "markdown",
      "source": [
        "**6. 엑셀로 내보내기 / 불러오기**"
      ],
      "metadata": {
        "id": "M0LCn54tHpvH"
      }
    },
    {
      "cell_type": "code",
      "source": [
        "import pandas as pd\n",
        "\n",
        "fruit_dict = {\n",
        "    'Apple' : '사과',\n",
        "    'Grape' : '포도',\n",
        "    'Strawberry' : '딸기',\n",
        "    'Orange' : '오렌지'\n",
        "}\n",
        "\n",
        "count_dict = {\n",
        "    'Apple' : 3,\n",
        "    'Grape' : 5,\n",
        "    'Strawberry' : 7,\n",
        "    'Orange' : 4\n",
        "}\n",
        "\n",
        "pref_dict = {\n",
        "    'Apple' : 1,\n",
        "    'Grape' : 2,\n",
        "    'Strawberry' : 3,\n",
        "    'Orange' : 1\n",
        "}\n",
        "\n",
        "fruit_name = pd.Series(fruit_dict)\n",
        "cnt = pd.Series(count_dict)\n",
        "pref = pd.Series(pref_dict)\n",
        "\n",
        "df_fruit = pd.DataFrame({\n",
        "    'fruit' : fruit_name,\n",
        "    'count' : cnt,\n",
        "    'preference' : pref\n",
        "})\n",
        "\n",
        "# to_csv 함수를 이용하여 내보내기(한글 데이터를 잘처리하기 위해서 utf-8-sig)\n",
        "df_fruit.to_csv(\"fruit.csv\", encoding='utf-8-sig')\n",
        "#데이터를 불러오기 위해서 pandas에 있는 read_csv 함수 사용\n",
        "saved = pd.read_csv(\"fruit.csv\", index_col=0)\n",
        "print(saved)\n",
        "\n",
        "!ls -al"
      ],
      "metadata": {
        "colab": {
          "base_uri": "https://localhost:8080/"
        },
        "id": "_ahXMfJqHsQN",
        "outputId": "9dd50fc3-7391-4369-c525-fb8aef8e58ca"
      },
      "execution_count": null,
      "outputs": [
        {
          "output_type": "stream",
          "name": "stdout",
          "text": [
            "           fruit  count  preference\n",
            "Apple         사과      3           1\n",
            "Grape         포도      5           2\n",
            "Strawberry    딸기      7           3\n",
            "Orange       오렌지      4           1\n",
            "total 20\n",
            "drwxr-xr-x 1 root root 4096 Mar  9 04:56 .\n",
            "drwxr-xr-x 1 root root 4096 Mar  9 04:54 ..\n",
            "drwxr-xr-x 4 root root 4096 Mar  7 14:44 .config\n",
            "-rw-r--r-- 1 root root  104 Mar  9 04:56 fruit.csv\n",
            "drwxr-xr-x 1 root root 4096 Mar  7 14:45 sample_data\n"
          ]
        }
      ]
    },
    {
      "cell_type": "markdown",
      "source": [
        "**7. 데이터 프레임의 Null 여부 확인**"
      ],
      "metadata": {
        "id": "Wh9C75QjIIW4"
      }
    },
    {
      "cell_type": "code",
      "source": [
        "import numpy as np\n",
        "import pandas as pd\n",
        "\n",
        "fruit_dict = {\n",
        "    'Apple' : '사과',\n",
        "    'Grape' : '포도',\n",
        "    'Strawberry' : '딸기',\n",
        "    'Orange' : '오렌지'\n",
        "}\n",
        "\n",
        "count_dict = {\n",
        "    'Apple' : 3,\n",
        "    'Grape' : 5,\n",
        "    'Strawberry' : np.nan,\n",
        "    'Orange' : 4\n",
        "}\n",
        "\n",
        "pref_dict = {\n",
        "    'Apple' : 1,\n",
        "    'Grape' : 2,\n",
        "    'Strawberry' : 3,\n",
        "    'Orange' : 1\n",
        "}\n",
        "\n",
        "fruit_name = pd.Series(fruit_dict)\n",
        "cnt = pd.Series(count_dict)\n",
        "pref = pd.Series(pref_dict)\n",
        "\n",
        "df_fruit = pd.DataFrame({\n",
        "    'fruit' : fruit_name,\n",
        "    'count' : cnt,\n",
        "    'preference' : pref\n",
        "})\n",
        "\n",
        "print(df_fruit, '\\n')\n",
        "print(df_fruit.notnull(), '\\n')\n",
        "print(df_fruit.isnull(), '\\n')\n",
        "df_fruit['count'] = df_fruit['count'].fillna('데이터 없음')\n",
        "print(df_fruit)"
      ],
      "metadata": {
        "id": "SX15rzk6IRLW",
        "colab": {
          "base_uri": "https://localhost:8080/"
        },
        "outputId": "3f2c05a8-28c6-4ecb-e461-55822eeae66a"
      },
      "execution_count": null,
      "outputs": [
        {
          "output_type": "stream",
          "name": "stdout",
          "text": [
            "           fruit  count  preference\n",
            "Apple         사과    3.0           1\n",
            "Grape         포도    5.0           2\n",
            "Strawberry    딸기    NaN           3\n",
            "Orange       오렌지    4.0           1 \n",
            "\n",
            "            fruit  count  preference\n",
            "Apple        True   True        True\n",
            "Grape        True   True        True\n",
            "Strawberry   True  False        True\n",
            "Orange       True   True        True \n",
            "\n",
            "            fruit  count  preference\n",
            "Apple       False  False       False\n",
            "Grape       False  False       False\n",
            "Strawberry  False   True       False\n",
            "Orange      False  False       False \n",
            "\n",
            "           fruit   count  preference\n",
            "Apple         사과     3.0           1\n",
            "Grape         포도     5.0           2\n",
            "Strawberry    딸기  데이터 없음           3\n",
            "Orange       오렌지     4.0           1\n"
          ]
        }
      ]
    },
    {
      "cell_type": "markdown",
      "source": [
        "**8. 시리즈 자료형의 연산**"
      ],
      "metadata": {
        "id": "n0RAnRhsJKdM"
      }
    },
    {
      "cell_type": "code",
      "source": [
        "import pandas as pd\n",
        "\n",
        "array1 = pd.Series([1, 2, 3], index=['A', 'B', 'C'])\n",
        "array2 = pd.Series([4, 5, 6], index=['B', 'C', 'D'])\n",
        "\n",
        "add1_array = array1.add(array2)\n",
        "print(add1_array, '\\n')\n",
        "\n",
        "add2_array = array1.add(array2, fill_value=0)\n",
        "print(add2_array)"
      ],
      "metadata": {
        "colab": {
          "base_uri": "https://localhost:8080/"
        },
        "id": "46HBoJPFJ0pP",
        "outputId": "c0e0f005-5860-40a8-eba3-b2ec57b38e9c"
      },
      "execution_count": null,
      "outputs": [
        {
          "output_type": "stream",
          "name": "stdout",
          "text": [
            "A    NaN\n",
            "B    6.0\n",
            "C    8.0\n",
            "D    NaN\n",
            "dtype: float64 \n",
            "\n",
            "A    1.0\n",
            "B    6.0\n",
            "C    8.0\n",
            "D    6.0\n",
            "dtype: float64\n"
          ]
        }
      ]
    },
    {
      "cell_type": "markdown",
      "source": [
        "**9. 데이터 프레임 자료형의 연산**"
      ],
      "metadata": {
        "id": "sekPkmaxKb0Z"
      }
    },
    {
      "cell_type": "code",
      "source": [
        "import pandas as pd\n",
        "\n",
        "df1 = pd.DataFrame([ [1, 2], [3, 4] ], index=['A', 'B'])\n",
        "df2 = pd.DataFrame([ [1, 2, 3], [4, 5, 6], [7, 8, 9] ], index=['B', 'C', 'D'])\n",
        "\n",
        "print(df1, '\\n')\n",
        "print(df2, '\\n')\n",
        "\n",
        "add_df = df1.add(df2, fill_value=0)\n",
        "print(add_df)"
      ],
      "metadata": {
        "colab": {
          "base_uri": "https://localhost:8080/"
        },
        "id": "6OWt2hCQKJ1u",
        "outputId": "43545cbd-1c95-492a-806f-1842f37e3f32"
      },
      "execution_count": null,
      "outputs": [
        {
          "output_type": "stream",
          "name": "stdout",
          "text": [
            "   0  1\n",
            "A  1  2\n",
            "B  3  4 \n",
            "\n",
            "   0  1  2\n",
            "B  1  2  3\n",
            "C  4  5  6\n",
            "D  7  8  9 \n",
            "\n",
            "     0    1    2\n",
            "A  1.0  2.0  NaN\n",
            "B  4.0  6.0  3.0\n",
            "C  4.0  5.0  6.0\n",
            "D  7.0  8.0  9.0\n"
          ]
        }
      ]
    },
    {
      "cell_type": "markdown",
      "source": [
        "**10. 데이터 프레임 집계 함수**"
      ],
      "metadata": {
        "id": "GRw_NjASHTHO"
      }
    },
    {
      "cell_type": "code",
      "source": [
        "import pandas as pd\n",
        "\n",
        "df1 = pd.DataFrame([ [1, 2], [3, 4] ], index=['A', 'B'])\n",
        "df2 = pd.DataFrame([ [1, 2, 3], [4, 5, 6], [7, 8, 9] ], index=['B', 'C', 'D'])\n",
        "\n",
        "add_df = df1.add(df2, fill_value=0)\n",
        "print(add_df, '\\n')\n",
        "print('컬럼 1의 합: ', add_df[1].sum(), '\\n')\n",
        "print('모든 컬럼 각각의 합: \\n', add_df.sum())"
      ],
      "metadata": {
        "id": "U39-Aq8qHYLU",
        "colab": {
          "base_uri": "https://localhost:8080/"
        },
        "outputId": "8d98a19a-a74c-4ddf-e517-efbaaade992e"
      },
      "execution_count": null,
      "outputs": [
        {
          "output_type": "stream",
          "name": "stdout",
          "text": [
            "     0    1    2\n",
            "A  1.0  2.0  NaN\n",
            "B  4.0  6.0  3.0\n",
            "C  4.0  5.0  6.0\n",
            "D  7.0  8.0  9.0 \n",
            "\n",
            "컬럼 1의 합:  21.0 \n",
            "\n",
            "모든 컬럼 각각의 합: \n",
            " 0    16.0\n",
            "1    21.0\n",
            "2    18.0\n",
            "dtype: float64\n"
          ]
        }
      ]
    },
    {
      "cell_type": "markdown",
      "source": [
        "**11. 데이터 프레임 정렬 함수**"
      ],
      "metadata": {
        "id": "tN0UovQanDxC"
      }
    },
    {
      "cell_type": "code",
      "source": [
        "import pandas as pd\n",
        "import numpy as np\n",
        "\n",
        "fruit_dict = {\n",
        "    'Apple' : '사과',\n",
        "    'Grape' : '포도',\n",
        "    'Strawberry' : '딸기',\n",
        "    'Orange' : '오렌지'\n",
        "}\n",
        "\n",
        "count_dict = {\n",
        "    'Apple' : 3,\n",
        "    'Grape' : 5,\n",
        "    'Strawberry' : 7,\n",
        "    'Orange' : 4\n",
        "}\n",
        "\n",
        "pref_dict = {\n",
        "    'Apple' : 1,\n",
        "    'Grape' : 2,\n",
        "    'Strawberry' : 3,\n",
        "    'Orange' : 1\n",
        "}\n",
        "\n",
        "fruit_name = pd.Series(fruit_dict)\n",
        "cnt = pd.Series(count_dict)\n",
        "pref = pd.Series(pref_dict)\n",
        "\n",
        "df_fruit = pd.DataFrame({\n",
        "    'fruit' : fruit_name,\n",
        "    'count' : cnt,\n",
        "    'preference' : pref\n",
        "})\n",
        "\n",
        "print(df_fruit, '\\n')\n",
        "df_fruit = df_fruit.sort_values('count', ascending=False)\n",
        "print(df_fruit)"
      ],
      "metadata": {
        "colab": {
          "base_uri": "https://localhost:8080/"
        },
        "id": "FZm__K-onJ8v",
        "outputId": "9017b752-bc0c-4116-f8f2-36694c8dab07"
      },
      "execution_count": null,
      "outputs": [
        {
          "output_type": "stream",
          "name": "stdout",
          "text": [
            "           fruit  count  preference\n",
            "Apple         사과      3           1\n",
            "Grape         포도      5           2\n",
            "Strawberry    딸기      7           3\n",
            "Orange       오렌지      4           1 \n",
            "\n",
            "           fruit  count  preference\n",
            "Strawberry    딸기      7           3\n",
            "Grape         포도      5           2\n",
            "Orange       오렌지      4           1\n",
            "Apple         사과      3           1\n"
          ]
        }
      ]
    },
    {
      "cell_type": "markdown",
      "source": [
        "**12. 데이터 프레임의 마스킹**"
      ],
      "metadata": {
        "id": "duS8uVKAH55Y"
      }
    },
    {
      "cell_type": "code",
      "source": [
        "import pandas as pd\n",
        "import numpy as np\n",
        "\n",
        "df = pd.DataFrame(np.random.randint(1, 10, (2, 2)), index=[0, 1], columns=[\"A\", \"B\"])\n",
        "print(df, '\\n')\n",
        "\n",
        "print('컬럼 A의 각 원소가 5보다 작거나 같은지 출력')\n",
        "print(df['A'] <= 5, '\\n')\n",
        "\n",
        "print('컬럼 A의 원소가 5보다 작거나 같고, 컬럼 B의 원소가 8보다 작거나 같은 행 추출')\n",
        "print(df.query(\"A <= 5 and B <= 8\"))"
      ],
      "metadata": {
        "id": "TxP5sCdxIFz2",
        "colab": {
          "base_uri": "https://localhost:8080/"
        },
        "outputId": "0d46bb06-46e7-4e28-d39c-067f7210b428"
      },
      "execution_count": null,
      "outputs": [
        {
          "output_type": "stream",
          "name": "stdout",
          "text": [
            "   A  B\n",
            "0  5  9\n",
            "1  1  4 \n",
            "\n",
            "컬럼 A의 각 원소가 5보다 작거나 같은지 출력\n",
            "0    True\n",
            "1    True\n",
            "Name: A, dtype: bool \n",
            "\n",
            "컬럼 A의 원소가 5보다 작거나 같고, 컬럼 B의 원소가 8보다 작거나 같은 행 추출\n",
            "   A  B\n",
            "1  1  4\n"
          ]
        }
      ]
    },
    {
      "cell_type": "markdown",
      "source": [
        "**13. 데이터 프레임의 개별 연산**"
      ],
      "metadata": {
        "id": "DNRfrRaWIizX"
      }
    },
    {
      "cell_type": "code",
      "source": [
        "import pandas as pd\n",
        "\n",
        "# apply 함수를 이용\n",
        "\n",
        "df = pd.DataFrame([ [1, 2, 3, 4], [1, 2, 3, 4] ], index=[0, 1], columns=['A', 'B', 'C', 'D'])\n",
        "print(df, '\\n')\n",
        "\n",
        "df = df.apply(lambda x: x + 1)\n",
        "print(df, '\\n')\n",
        "\n",
        "def add_one(x):\n",
        "  return x + 1\n",
        "\n",
        "df = df.apply(add_one)\n",
        "print(df)"
      ],
      "metadata": {
        "id": "TV-c5-0zIm5V",
        "colab": {
          "base_uri": "https://localhost:8080/"
        },
        "outputId": "5e847870-9601-4cd0-b4af-73ad1160d3a8"
      },
      "execution_count": null,
      "outputs": [
        {
          "output_type": "stream",
          "name": "stdout",
          "text": [
            "   A  B  C  D\n",
            "0  1  2  3  4\n",
            "1  1  2  3  4 \n",
            "\n",
            "   A  B  C  D\n",
            "0  2  3  4  5\n",
            "1  2  3  4  5 \n",
            "\n",
            "   A  B  C  D\n",
            "0  3  4  5  6\n",
            "1  3  4  5  6\n"
          ]
        }
      ]
    },
    {
      "cell_type": "code",
      "source": [
        "import pandas as pd\n",
        "\n",
        "# replace를 사용하여 특정한 데이터를 찾아서 그 데이터만을 변경\n",
        "\n",
        "df = pd.DataFrame([ ['Apple', 'Grape', 'Strawberry', 'Orange'],\n",
        "                   ['Banana', 'Carrot', 'Potato', 'Cucumber'] ],\n",
        "                  index=[0, 1], columns=['A', 'B', 'C', 'D'])\n",
        "\n",
        "print(df,'\\n')\n",
        "df = df.replace({'Apple':'Peach'})\n",
        "print(df)"
      ],
      "metadata": {
        "colab": {
          "base_uri": "https://localhost:8080/"
        },
        "id": "3XKLYEP-JEsY",
        "outputId": "e965e2ef-f9c1-4b27-b224-a7d5c7af22da"
      },
      "execution_count": null,
      "outputs": [
        {
          "output_type": "stream",
          "name": "stdout",
          "text": [
            "        A       B           C         D\n",
            "0   Apple   Grape  Strawberry    Orange\n",
            "1  Banana  Carrot      Potato  Cucumber \n",
            "\n",
            "        A       B           C         D\n",
            "0   Peach   Grape  Strawberry    Orange\n",
            "1  Banana  Carrot      Potato  Cucumber\n"
          ]
        }
      ]
    },
    {
      "cell_type": "markdown",
      "source": [
        "**14. 데이터 프레임의 그룹화**"
      ],
      "metadata": {
        "id": "tDCEabW2Jqmn"
      }
    },
    {
      "cell_type": "code",
      "source": [
        "import pandas as pd\n",
        "\n",
        "# groupby 함수\n",
        "\n",
        "df = pd.DataFrame([ ['Apple', 7, 'Fruit'],\n",
        "                   ['Grape', 3, 'Fruit'],\n",
        "                   ['Carrot', 5, 'Vegetable'],\n",
        "                   ['Potato', 4, 'Vegetable'] ],\n",
        "                  columns=['Name', 'Count', 'Type'])\n",
        "print(df, '\\n')\n",
        "print(df.groupby(['Type']).sum())"
      ],
      "metadata": {
        "id": "4saE24EiJpqG",
        "colab": {
          "base_uri": "https://localhost:8080/"
        },
        "outputId": "cfcf0193-6224-494a-835d-7d411269d89d"
      },
      "execution_count": null,
      "outputs": [
        {
          "output_type": "stream",
          "name": "stdout",
          "text": [
            "     Name  Count       Type\n",
            "0   Apple      7      Fruit\n",
            "1   Grape      3      Fruit\n",
            "2  Carrot      5  Vegetable\n",
            "3  Potato      4  Vegetable \n",
            "\n",
            "           Count\n",
            "Type            \n",
            "Fruit         10\n",
            "Vegetable      9\n"
          ]
        }
      ]
    },
    {
      "cell_type": "code",
      "source": [
        "# aggregate 함수: 여러 개의 groupby 연산을 수행할 수 있음\n",
        "\n",
        "import numpy as np\n",
        "import pandas as pd\n",
        "\n",
        "df = pd.DataFrame([ ['Apple', 7, 1, 'Fruit'],\n",
        "                   ['Grape', 3, 4, 'Fruit'],\n",
        "                   ['Carrot', 5, 3, 'Vegetable'],\n",
        "                   ['Potato', 4, 2, 'Vegetable'] ],\n",
        "                  columns=['Name', 'Count', 'Preference', 'Type'])\n",
        "print(df, '\\n')\n",
        "print(df.groupby(['Type']).aggregate([min, max, np.average]))"
      ],
      "metadata": {
        "colab": {
          "base_uri": "https://localhost:8080/"
        },
        "id": "Ft6Az4z2LB4K",
        "outputId": "61ffd762-1fda-40eb-bb9c-e737ea482311"
      },
      "execution_count": null,
      "outputs": [
        {
          "output_type": "stream",
          "name": "stdout",
          "text": [
            "     Name  Count  Preference       Type\n",
            "0   Apple      7           1      Fruit\n",
            "1   Grape      3           4      Fruit\n",
            "2  Carrot      5           3  Vegetable\n",
            "3  Potato      4           2  Vegetable \n",
            "\n",
            "          Count             Preference            \n",
            "            min max average        min max average\n",
            "Type                                              \n",
            "Fruit         3   7     5.0          1   4     2.5\n",
            "Vegetable     4   5     4.5          2   3     2.5\n"
          ]
        },
        {
          "output_type": "stream",
          "name": "stderr",
          "text": [
            "/usr/local/lib/python3.7/dist-packages/pandas/core/groupby/generic.py:303: FutureWarning: Dropping invalid columns in SeriesGroupBy.agg is deprecated. In a future version, a TypeError will be raised. Before calling .agg, select only columns which should be valid for the aggregating function.\n",
            "  results[key] = self.aggregate(func)\n"
          ]
        }
      ]
    },
    {
      "cell_type": "code",
      "source": [
        "import pandas as pd\n",
        "\n",
        "# groupby로 나온 결과에 대해서 필터링을 수행한 결과 구하기\n",
        "\n",
        "df = pd.DataFrame([ ['Apple', 7, 1, 'Fruit'],\n",
        "                   ['Grape', 3, 4, 'Fruit'],\n",
        "                   ['Carrot', 5, 3, 'Vegetable'],\n",
        "                   ['Potato', 4, 2, 'Vegetable'] ],\n",
        "                  columns=['Name', 'Count', 'Preference', 'Type'])\n",
        "\n",
        "def my_filter(data):\n",
        "  return data['Count'].mean() >= 5\n",
        "\n",
        "print(df,'\\n')\n",
        "\n",
        "# Type 별로 묶기\n",
        "df = df.groupby(\"Type\").filter(my_filter)\n",
        "# Count의 평균 값이 5 이상인 Type의 값만 출력\n",
        "print(df)"
      ],
      "metadata": {
        "colab": {
          "base_uri": "https://localhost:8080/"
        },
        "id": "YnmyMxzUMUUm",
        "outputId": "da8b7795-69f5-4f84-d2a6-0b805e7d322a"
      },
      "execution_count": null,
      "outputs": [
        {
          "output_type": "stream",
          "name": "stdout",
          "text": [
            "     Name  Count  Preference       Type\n",
            "0   Apple      7           1      Fruit\n",
            "1   Grape      3           4      Fruit\n",
            "2  Carrot      5           3  Vegetable\n",
            "3  Potato      4           2  Vegetable \n",
            "\n",
            "    Name  Count  Preference   Type\n",
            "0  Apple      7           1  Fruit\n",
            "1  Grape      3           4  Fruit\n"
          ]
        }
      ]
    },
    {
      "cell_type": "code",
      "source": [
        "import pandas as pd\n",
        "\n",
        "# Vegetable이라는 Type의 데이터만 가져오기\n",
        "\n",
        "df = pd.DataFrame([ ['Apple', 7, 1, 'Fruit'],\n",
        "                   ['Grape', 3, 4, 'Fruit'],\n",
        "                   ['Carrot', 5, 3, 'Vegetable'],\n",
        "                   ['Potato', 4, 2, 'Vegetable'] ],\n",
        "                  columns=['Name', 'Count', 'Preference', 'Type'])\n",
        "df = df.groupby(\"Type\").get_group(\"Vegetable\")\n",
        "print(df)"
      ],
      "metadata": {
        "id": "YVGWCwtOM7tv",
        "colab": {
          "base_uri": "https://localhost:8080/"
        },
        "outputId": "31668a92-d74a-4dd2-d7ef-bb11bb41f614"
      },
      "execution_count": null,
      "outputs": [
        {
          "output_type": "stream",
          "name": "stdout",
          "text": [
            "     Name  Count  Preference       Type\n",
            "2  Carrot      5           3  Vegetable\n",
            "3  Potato      4           2  Vegetable\n"
          ]
        }
      ]
    },
    {
      "cell_type": "code",
      "source": [
        "import pandas as pd\n",
        "\n",
        "# Type에 따라 그룹을 지은 후 Count의 mean 값과 얼마나 차이가 나는지 계산해서 Gap에 삽입\n",
        "\n",
        "df = pd.DataFrame([ ['Apple', 7, 1, 'Fruit'],\n",
        "                   ['Grape', 3, 4, 'Fruit'],\n",
        "                   ['Carrot', 5, 3, 'Vegetable'],\n",
        "                   ['Potato', 4, 2, 'Vegetable'] ],\n",
        "                  columns=['Name', 'Count', 'Preference', 'Type'])\n",
        "\n",
        "df['Gap'] = df.groupby(\"Type\")[\"Count\"].apply(lambda x : x - x.mean())\n",
        "print(df)"
      ],
      "metadata": {
        "colab": {
          "base_uri": "https://localhost:8080/"
        },
        "id": "9SNUX5PNNKiL",
        "outputId": "f673594b-0407-4474-943a-d74b20ac7103"
      },
      "execution_count": null,
      "outputs": [
        {
          "output_type": "stream",
          "name": "stdout",
          "text": [
            "     Name  Count  Preference       Type  Gap\n",
            "0   Apple      7           1      Fruit  2.0\n",
            "1   Grape      3           4      Fruit -2.0\n",
            "2  Carrot      5           3  Vegetable  0.5\n",
            "3  Potato      4           2  Vegetable -0.5\n"
          ]
        }
      ]
    },
    {
      "cell_type": "markdown",
      "source": [
        "**15. 데이터 프레임의 다중화**"
      ],
      "metadata": {
        "id": "aQ9dxNTANjEw"
      }
    },
    {
      "cell_type": "code",
      "source": [
        "import pandas as pd\n",
        "import numpy as np\n",
        "\n",
        "# 인덱스를 다중화해서 설정할 수 있음\n",
        "\n",
        "df = pd.DataFrame(\n",
        "    np.random.randint(1, 10, (4, 4)),\n",
        "    index = [['1차', '1차', '2차', '2차'], ['공격', '수비', '공격', '수비']],\n",
        "    columns = ['1회', '2회', '3회', '4회']\n",
        ")\n",
        "\n",
        "print(df, '\\n')\n",
        "# 2차 공격/수비의 1회, 2회 데이터를 출력\n",
        "print(df[['1회', '2회']].loc['2차'])"
      ],
      "metadata": {
        "id": "_uqn2rB9NhpN",
        "colab": {
          "base_uri": "https://localhost:8080/"
        },
        "outputId": "f0664411-acbe-4060-deea-e2f87628828e"
      },
      "execution_count": null,
      "outputs": [
        {
          "output_type": "stream",
          "name": "stdout",
          "text": [
            "       1회  2회  3회  4회\n",
            "1차 공격   3   8   9   8\n",
            "   수비   9   8   3   6\n",
            "2차 공격   5   9   4   7\n",
            "   수비   5   4   3   9 \n",
            "\n",
            "    1회  2회\n",
            "공격   5   9\n",
            "수비   5   4\n"
          ]
        }
      ]
    }
  ]
}